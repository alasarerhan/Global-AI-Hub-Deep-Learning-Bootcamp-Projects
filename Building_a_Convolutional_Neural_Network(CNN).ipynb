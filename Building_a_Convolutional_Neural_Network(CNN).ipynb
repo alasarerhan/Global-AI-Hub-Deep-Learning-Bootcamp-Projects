{
  "nbformat": 4,
  "nbformat_minor": 0,
  "metadata": {
    "colab": {
      "provenance": [],
      "gpuType": "T4"
    },
    "kernelspec": {
      "name": "python3",
      "display_name": "Python 3"
    },
    "language_info": {
      "name": "python"
    },
    "accelerator": "GPU"
  },
  "cells": [
    {
      "cell_type": "markdown",
      "source": [
        "# Building a Convolutional Neural Network"
      ],
      "metadata": {
        "id": "rN2FmF7KMDxu"
      }
    },
    {
      "cell_type": "markdown",
      "source": [
        "## Image Classification"
      ],
      "metadata": {
        "id": "QJ0YJR6WMMwe"
      }
    },
    {
      "cell_type": "markdown",
      "source": [
        "In this project, we will build a convolutional neural network to solve a multiclass image classification problem. For this we will use the \"CIFAR-10\" dataset available on Keras. In includes 60000 32 by 32 images of 10 classes"
      ],
      "metadata": {
        "id": "D9zeujbNMQwa"
      }
    },
    {
      "cell_type": "markdown",
      "source": [
        "## Importing the required libraries"
      ],
      "metadata": {
        "id": "0OicVzykMhSp"
      }
    },
    {
      "cell_type": "code",
      "execution_count": null,
      "metadata": {
        "id": "7e0V6_jrL9mk"
      },
      "outputs": [],
      "source": [
        "import tensorflow as tf\n",
        "import numpy as np\n",
        "import matplotlib.pyplot as plt"
      ]
    },
    {
      "cell_type": "markdown",
      "source": [
        "## Dataset\n",
        "Let's download the CIFAR-10 dataset which is included in Keras and assign it to the corresponding variables X_train, y_train, X_test, y_test\n",
        "\n",
        "Use the datasets.cifar10.load_data() function of keras"
      ],
      "metadata": {
        "id": "jumzHghxMyH5"
      }
    },
    {
      "cell_type": "code",
      "source": [
        "(X_train,y_train),(X_test,y_test) = tf.keras.datasets.cifar10.load_data()"
      ],
      "metadata": {
        "id": "N5AzF-lMMDCS"
      },
      "execution_count": null,
      "outputs": []
    },
    {
      "cell_type": "markdown",
      "source": [
        "Now we can print the number of samples in the X_train and X_test datasets to see how the dataset is distributed"
      ],
      "metadata": {
        "id": "_k0ZCcFmNVDa"
      }
    },
    {
      "cell_type": "code",
      "source": [
        "# Print the number of samples\n",
        "print(f\"X_train:{len(X_train)}\")\n",
        "print(f\"X_test:{len(X_test)}\")"
      ],
      "metadata": {
        "colab": {
          "base_uri": "https://localhost:8080/"
        },
        "id": "Z-BQoLfmNTdw",
        "outputId": "a3aa1466-8657-467c-d89e-d54606cc0c1d"
      },
      "execution_count": null,
      "outputs": [
        {
          "output_type": "stream",
          "name": "stdout",
          "text": [
            "X_train:50000\n",
            "X_test:10000\n"
          ]
        }
      ]
    },
    {
      "cell_type": "markdown",
      "source": [
        "Before we move on with the preprocessing of the data, we can print a random sample to see what the data looks like"
      ],
      "metadata": {
        "id": "Ny5IKrG4N9WO"
      }
    },
    {
      "cell_type": "code",
      "source": [
        "# Print a sample from X_test dataset\n",
        "print(X_test[789])"
      ],
      "metadata": {
        "colab": {
          "base_uri": "https://localhost:8080/"
        },
        "collapsed": true,
        "id": "AHvvaPSMN60U",
        "outputId": "2beab353-f976-4385-a17e-8c44f0a776d3"
      },
      "execution_count": null,
      "outputs": [
        {
          "output_type": "stream",
          "name": "stdout",
          "text": [
            "[[[100 111 134]\n",
            "  [ 98 110 132]\n",
            "  [ 98 109 131]\n",
            "  ...\n",
            "  [ 69  89 114]\n",
            "  [ 67  87 113]\n",
            "  [ 66  86 111]]\n",
            "\n",
            " [[ 98 109 131]\n",
            "  [ 95 106 128]\n",
            "  [ 94 105 127]\n",
            "  ...\n",
            "  [ 65  85 110]\n",
            "  [ 64  84 109]\n",
            "  [ 63  83 107]]\n",
            "\n",
            " [[ 94 105 127]\n",
            "  [ 92 103 125]\n",
            "  [ 92 103 125]\n",
            "  ...\n",
            "  [ 63  83 108]\n",
            "  [ 62  82 107]\n",
            "  [ 60  80 105]]\n",
            "\n",
            " ...\n",
            "\n",
            " [[ 13  27  40]\n",
            "  [ 12  26  39]\n",
            "  [ 12  26  39]\n",
            "  ...\n",
            "  [  4   6  21]\n",
            "  [  5   7  22]\n",
            "  [  4   7  22]]\n",
            "\n",
            " [[ 12  24  38]\n",
            "  [ 14  26  39]\n",
            "  [  9  21  34]\n",
            "  ...\n",
            "  [  3   5  19]\n",
            "  [  3   5  20]\n",
            "  [  5   7  22]]\n",
            "\n",
            " [[ 14  23  34]\n",
            "  [ 12  21  31]\n",
            "  [  9  19  29]\n",
            "  ...\n",
            "  [  4   4  17]\n",
            "  [  4   5  18]\n",
            "  [  5   5  18]]]\n"
          ]
        }
      ]
    },
    {
      "cell_type": "markdown",
      "source": [
        "The numbers we see here are pixel values. This is how computers see images. But like this, it doesn't mean much to us. Let's visualize this sample.\n",
        "Convert the pixel values into an image by using imshow() funtion of the matplotlib\n",
        "\n",
        "Print the shape of the image using shape"
      ],
      "metadata": {
        "id": "Bjr3i5pUOTp4"
      }
    },
    {
      "cell_type": "code",
      "source": [
        "plt.imshow(X_test[789])\n",
        "plt.show()\n",
        "\n",
        "print(X_test[789].shape)"
      ],
      "metadata": {
        "colab": {
          "base_uri": "https://localhost:8080/",
          "height": 447
        },
        "id": "o600wwgPOTAS",
        "outputId": "695e9dc9-5f5f-402d-e738-f82ac8d9c63d"
      },
      "execution_count": null,
      "outputs": [
        {
          "output_type": "display_data",
          "data": {
            "text/plain": [
              "<Figure size 640x480 with 1 Axes>"
            ],
            "image/png": "[encoded data removed]"
          },
          "metadata": {}
        },
        {
          "output_type": "stream",
          "name": "stdout",
          "text": [
            "(32, 32, 3)\n"
          ]
        }
      ]
    },
    {
      "cell_type": "markdown",
      "source": [
        "## Preprocessing\n",
        "With this knowledge we can adjust our dataset for further use.\n",
        "We need three datasets. train,validate and test. We can separate 10000 images from the train dataset and use it as the validation dataset"
      ],
      "metadata": {
        "id": "obdWhbrtO-DG"
      }
    },
    {
      "cell_type": "code",
      "source": [
        "X_val = X_train[40000:]\n",
        "y_val = y_train[40000:]\n",
        "\n",
        "X_train = X_train[:40000]\n",
        "y_train = y_train[:40000]"
      ],
      "metadata": {
        "id": "0mptUUtAOHVq"
      },
      "execution_count": null,
      "outputs": []
    },
    {
      "cell_type": "markdown",
      "source": [
        " Let's check the number of samples in each dataset to see the final results"
      ],
      "metadata": {
        "id": "O2wxPFBePdhp"
      }
    },
    {
      "cell_type": "code",
      "source": [
        "print(f\"X_train:{len(X_train)}\")\n",
        "print(f\"X_val:{len(X_val)}\")\n",
        "print(f\"X_test:{len(X_test)}\")"
      ],
      "metadata": {
        "colab": {
          "base_uri": "https://localhost:8080/"
        },
        "id": "qZHzwLRVPa7x",
        "outputId": "3d4a4ab1-95d9-448d-e832-ae6ca8ff5eea"
      },
      "execution_count": null,
      "outputs": [
        {
          "output_type": "stream",
          "name": "stdout",
          "text": [
            "X_train:40000\n",
            "X_val:10000\n",
            "X_test:10000\n"
          ]
        }
      ]
    },
    {
      "cell_type": "markdown",
      "source": [
        "## Normalization\n",
        "Since pixel values are between 0 and 255, dividing these values by 255 will scale each of them to values between 0 and 1"
      ],
      "metadata": {
        "id": "hKXxUDH0PuG-"
      }
    },
    {
      "cell_type": "code",
      "source": [
        "# Divide each dataset by 255\n",
        "X_train = X_train / 255\n",
        "X_val = X_val / 255\n",
        "X_test = X_test / 255"
      ],
      "metadata": {
        "id": "Zsbi2UMSPrlO"
      },
      "execution_count": null,
      "outputs": []
    },
    {
      "cell_type": "markdown",
      "source": [
        "## Constructing the neural network\n",
        "That was it for the preprocessing of the data\n",
        "\n",
        "Now we can create our model. First thing first, we start by creating a model object using Sequential API of Keras\n",
        "\n",
        "Use tf.keras.Sequential() to create a model object"
      ],
      "metadata": {
        "id": "yXKEjrWuQH5r"
      }
    },
    {
      "cell_type": "code",
      "source": [
        "model = tf.keras.Sequential()"
      ],
      "metadata": {
        "id": "Q93L7QXHQGuh"
      },
      "execution_count": null,
      "outputs": []
    },
    {
      "cell_type": "markdown",
      "source": [
        "## Feature Extraction layers\n",
        "For the first two layers, we add a convolution adn max pooling layer\n",
        "Use tf.keras.layers.Conv2D() and tf.keras.layers.MaxPooling2D() to create the layers.\n",
        "\n",
        "Use .add() method of the object to add the layer."
      ],
      "metadata": {
        "id": "wGUm1FxpQzRm"
      }
    },
    {
      "cell_type": "code",
      "source": [
        "# Add a convolution and max pooling layer\n",
        "model.add(tf.keras.layers.Conv2D(256,\n",
        "                                 kernel_size=(3,3),\n",
        "                                 strides=(1,1),\n",
        "                                 padding=\"same\",\n",
        "                                 activation='relu',\n",
        "                                 input_shape =(32,32,3)))\n",
        "model.add(tf.keras.layers.MaxPooling2D((2,2)))"
      ],
      "metadata": {
        "id": "30r96WxKRG50"
      },
      "execution_count": null,
      "outputs": []
    },
    {
      "cell_type": "markdown",
      "source": [
        "Then we add more layers. One convolution, one max pooling, and one convolution layer again.\n",
        "\n",
        "Use tf.keras.layers.Conv2D() and tf.keras.layers.MaxPooling2D to create the layers.\n",
        "\n",
        "Use .add() method of the object to add the layer.\n"
      ],
      "metadata": {
        "id": "nVKkt9aLSX5s"
      }
    },
    {
      "cell_type": "code",
      "source": [
        "model.add(tf.keras.layers.Conv2D(256,\n",
        "                                 kernel_size=(3,3),\n",
        "                                 strides=(1,1),\n",
        "                                 padding='same',\n",
        "                                 activation='relu'))\n",
        "model.add(tf.keras.layers.MaxPooling2D(2,2))\n",
        "# model.add(tf.keras.layers.Conv2D(64,\n",
        "#                                  kernel_size=(3,3),\n",
        "#                                  strides=(1,1),\n",
        "#                                  padding='same',\n",
        "#                                  activation='relu'))"
      ],
      "metadata": {
        "id": "sYfK_1X_SWqn"
      },
      "execution_count": null,
      "outputs": []
    },
    {
      "cell_type": "markdown",
      "source": [
        "## Flatten\n",
        "To connect the 2D convolution and 1D dense layers we have to \"flatten\" the convolution layer.\n",
        "\n",
        "Use tf.keras.layers.Flatten() to flatten the layers\n",
        "\n",
        "Use .add() method of the object to add the layer."
      ],
      "metadata": {
        "id": "JsNgJeGLZ8rM"
      }
    },
    {
      "cell_type": "code",
      "source": [
        "## Flatten the convolution layer\n",
        "model.add(tf.keras.layers.Flatten())"
      ],
      "metadata": {
        "id": "XcaLv1LBTSP2"
      },
      "execution_count": null,
      "outputs": []
    },
    {
      "cell_type": "markdown",
      "source": [
        "## Classification layers\n",
        "Now that we have the features extracted, we can move on to the classification part. We add two dense layers each with 64 nodes, 0.5 dropout and ReLU activation functions.\n",
        "\n",
        "use tf.keras.layers.Dense() to create the layers\n",
        "use .add() method of the object to add the layer"
      ],
      "metadata": {
        "id": "rDKcRFC7ajOu"
      }
    },
    {
      "cell_type": "code",
      "source": [
        "# Add the dense layer and dropout layer\n",
        "model.add(tf.keras.layers.Dense(64, activation='relu'))\n",
        "model.add(tf.keras.layers.Dropout(0.5))\n",
        "\n",
        "# Add the dense layer and dropout layer\n",
        "# model.add(tf.keras.layers.Dense(64, activation='relu'))\n",
        "# model.add(tf.keras.layers.Dropout(0.5))"
      ],
      "metadata": {
        "id": "k4IuXq18a4MH"
      },
      "execution_count": null,
      "outputs": []
    },
    {
      "cell_type": "markdown",
      "source": [
        "## Output layer\n",
        "As the last part of out neural network, we add the output layer. The number of nodes will be equal to the number of target classes which is 10 in our case. We'll use the softmax activation function in the output layer.\n",
        "\n",
        "Use tf.keras.layers.Dense() to create the layer.\n",
        "\n",
        "Use .add() method of the object to add the layer"
      ],
      "metadata": {
        "id": "oKNvm2MRbPsV"
      }
    },
    {
      "cell_type": "code",
      "source": [
        "model.add(tf.keras.layers.Dense(10,activation='softmax'))"
      ],
      "metadata": {
        "id": "it4ZmZljblW5"
      },
      "execution_count": null,
      "outputs": []
    },
    {
      "cell_type": "markdown",
      "source": [
        "## Optimizer\n",
        "Now we have the structure of our model. To configure the model for training we will use the .compile() method. Inside the compile method we have to define the following:\n",
        "\n",
        "\n",
        "*   \"Adam\" for optimizer\n",
        "*   \"Sparse Categorical CrossEntropy\" for the loss function\n",
        "\n",
        "Construct the model with the .compile() method\n",
        "\n"
      ],
      "metadata": {
        "id": "UhIdXHAdbw5A"
      }
    },
    {
      "cell_type": "code",
      "source": [
        "model.compile(optimizer='adam',\n",
        "             loss='sparse_categorical_crossentropy',\n",
        "              metrics=['accuracy'])"
      ],
      "metadata": {
        "id": "ftHOu1U1cKRQ"
      },
      "execution_count": null,
      "outputs": []
    },
    {
      "cell_type": "markdown",
      "source": [
        "## Training the model\n",
        "It's time to train the model. We'll give the X_train and y_train datasets as the first two arguments. These will be used for training. And with the the validation_data parameter we'll give the X_val and y_val as a tuple.\n",
        "\n",
        "Use .fit() method of the model object for the training."
      ],
      "metadata": {
        "id": "DUFWnxFjcj24"
      }
    },
    {
      "cell_type": "code",
      "source": [
        "# Train the model for 50 epochs\n",
        "results = model.fit(X_train, y_train,\n",
        "                    epochs=20,\n",
        "                    batch_size = 128,\n",
        "                    validation_data=(X_val,y_val))"
      ],
      "metadata": {
        "colab": {
          "base_uri": "https://localhost:8080/"
        },
        "id": "tm03OXeGcjI5",
        "outputId": "c42e7225-2ee4-4dd3-a1d0-3d0575f20c44"
      },
      "execution_count": null,
      "outputs": [
        {
          "output_type": "stream",
          "name": "stdout",
          "text": [
            "Epoch 1/20\n",
            "\u001b[1m313/313\u001b[0m \u001b[32m━━━━━━━━━━━━━━━━━━━━\u001b[0m\u001b[37m\u001b[0m \u001b[1m13s\u001b[0m 35ms/step - accuracy: 0.2394 - loss: 2.0470 - val_accuracy: 0.4984 - val_loss: 1.4528\n",
            "Epoch 2/20\n",
            "\u001b[1m313/313\u001b[0m \u001b[32m━━━━━━━━━━━━━━━━━━━━\u001b[0m\u001b[37m\u001b[0m \u001b[1m18s\u001b[0m 29ms/step - accuracy: 0.4240 - loss: 1.5833 - val_accuracy: 0.5602 - val_loss: 1.2910\n",
            "Epoch 3/20\n",
            "\u001b[1m313/313\u001b[0m \u001b[32m━━━━━━━━━━━━━━━━━━━━\u001b[0m\u001b[37m\u001b[0m \u001b[1m9s\u001b[0m 29ms/step - accuracy: 0.4831 - loss: 1.4154 - val_accuracy: 0.6032 - val_loss: 1.1642\n",
            "Epoch 4/20\n",
            "\u001b[1m313/313\u001b[0m \u001b[32m━━━━━━━━━━━━━━━━━━━━\u001b[0m\u001b[37m\u001b[0m \u001b[1m9s\u001b[0m 29ms/step - accuracy: 0.5191 - loss: 1.3137 - val_accuracy: 0.6217 - val_loss: 1.0795\n",
            "Epoch 5/20\n",
            "\u001b[1m313/313\u001b[0m \u001b[32m━━━━━━━━━━━━━━━━━━━━\u001b[0m\u001b[37m\u001b[0m \u001b[1m10s\u001b[0m 29ms/step - accuracy: 0.5464 - loss: 1.2378 - val_accuracy: 0.6409 - val_loss: 1.0384\n",
            "Epoch 6/20\n",
            "\u001b[1m313/313\u001b[0m \u001b[32m━━━━━━━━━━━━━━━━━━━━\u001b[0m\u001b[37m\u001b[0m \u001b[1m10s\u001b[0m 29ms/step - accuracy: 0.5614 - loss: 1.2018 - val_accuracy: 0.6591 - val_loss: 0.9862\n",
            "Epoch 7/20\n",
            "\u001b[1m313/313\u001b[0m \u001b[32m━━━━━━━━━━━━━━━━━━━━\u001b[0m\u001b[37m\u001b[0m \u001b[1m10s\u001b[0m 28ms/step - accuracy: 0.5760 - loss: 1.1511 - val_accuracy: 0.6611 - val_loss: 0.9715\n",
            "Epoch 8/20\n",
            "\u001b[1m313/313\u001b[0m \u001b[32m━━━━━━━━━━━━━━━━━━━━\u001b[0m\u001b[37m\u001b[0m \u001b[1m10s\u001b[0m 29ms/step - accuracy: 0.6006 - loss: 1.0936 - val_accuracy: 0.6818 - val_loss: 0.9261\n",
            "Epoch 9/20\n",
            "\u001b[1m313/313\u001b[0m \u001b[32m━━━━━━━━━━━━━━━━━━━━\u001b[0m\u001b[37m\u001b[0m \u001b[1m9s\u001b[0m 29ms/step - accuracy: 0.6129 - loss: 1.0629 - val_accuracy: 0.6791 - val_loss: 0.9441\n",
            "Epoch 10/20\n",
            "\u001b[1m313/313\u001b[0m \u001b[32m━━━━━━━━━━━━━━━━━━━━\u001b[0m\u001b[37m\u001b[0m \u001b[1m10s\u001b[0m 28ms/step - accuracy: 0.6169 - loss: 1.0306 - val_accuracy: 0.6939 - val_loss: 0.8918\n",
            "Epoch 11/20\n",
            "\u001b[1m313/313\u001b[0m \u001b[32m━━━━━━━━━━━━━━━━━━━━\u001b[0m\u001b[37m\u001b[0m \u001b[1m9s\u001b[0m 29ms/step - accuracy: 0.6353 - loss: 0.9949 - val_accuracy: 0.6810 - val_loss: 0.9389\n",
            "Epoch 12/20\n",
            "\u001b[1m313/313\u001b[0m \u001b[32m━━━━━━━━━━━━━━━━━━━━\u001b[0m\u001b[37m\u001b[0m \u001b[1m9s\u001b[0m 29ms/step - accuracy: 0.6423 - loss: 0.9744 - val_accuracy: 0.7045 - val_loss: 0.8785\n",
            "Epoch 13/20\n",
            "\u001b[1m313/313\u001b[0m \u001b[32m━━━━━━━━━━━━━━━━━━━━\u001b[0m\u001b[37m\u001b[0m \u001b[1m9s\u001b[0m 29ms/step - accuracy: 0.6518 - loss: 0.9414 - val_accuracy: 0.6885 - val_loss: 0.8933\n",
            "Epoch 14/20\n",
            "\u001b[1m313/313\u001b[0m \u001b[32m━━━━━━━━━━━━━━━━━━━━\u001b[0m\u001b[37m\u001b[0m \u001b[1m9s\u001b[0m 29ms/step - accuracy: 0.6720 - loss: 0.8979 - val_accuracy: 0.7035 - val_loss: 0.8664\n",
            "Epoch 15/20\n",
            "\u001b[1m313/313\u001b[0m \u001b[32m━━━━━━━━━━━━━━━━━━━━\u001b[0m\u001b[37m\u001b[0m \u001b[1m10s\u001b[0m 28ms/step - accuracy: 0.6740 - loss: 0.8741 - val_accuracy: 0.7044 - val_loss: 0.8899\n",
            "Epoch 16/20\n",
            "\u001b[1m313/313\u001b[0m \u001b[32m━━━━━━━━━━━━━━━━━━━━\u001b[0m\u001b[37m\u001b[0m \u001b[1m10s\u001b[0m 28ms/step - accuracy: 0.6751 - loss: 0.8608 - val_accuracy: 0.6909 - val_loss: 0.9019\n",
            "Epoch 17/20\n",
            "\u001b[1m313/313\u001b[0m \u001b[32m━━━━━━━━━━━━━━━━━━━━\u001b[0m\u001b[37m\u001b[0m \u001b[1m10s\u001b[0m 28ms/step - accuracy: 0.6934 - loss: 0.8245 - val_accuracy: 0.7103 - val_loss: 0.8553\n",
            "Epoch 18/20\n",
            "\u001b[1m313/313\u001b[0m \u001b[32m━━━━━━━━━━━━━━━━━━━━\u001b[0m\u001b[37m\u001b[0m \u001b[1m10s\u001b[0m 28ms/step - accuracy: 0.6920 - loss: 0.8197 - val_accuracy: 0.7124 - val_loss: 0.8614\n",
            "Epoch 19/20\n",
            "\u001b[1m313/313\u001b[0m \u001b[32m━━━━━━━━━━━━━━━━━━━━\u001b[0m\u001b[37m\u001b[0m \u001b[1m10s\u001b[0m 29ms/step - accuracy: 0.7048 - loss: 0.7869 - val_accuracy: 0.7074 - val_loss: 0.8805\n",
            "Epoch 20/20\n",
            "\u001b[1m313/313\u001b[0m \u001b[32m━━━━━━━━━━━━━━━━━━━━\u001b[0m\u001b[37m\u001b[0m \u001b[1m9s\u001b[0m 28ms/step - accuracy: 0.7059 - loss: 0.7752 - val_accuracy: 0.7121 - val_loss: 0.8651\n"
          ]
        }
      ]
    },
    {
      "cell_type": "markdown",
      "source": [
        "## Visualize the results\n",
        "After the model is trained, we can create a graph to visualize the change of loss over time. Results are held in:\n",
        "\n",
        "results.history['loss']\n",
        "results.history['val_loss']\n",
        "\n",
        "Use plt.show() to display the graph"
      ],
      "metadata": {
        "id": "V3157bNIeCu5"
      }
    },
    {
      "cell_type": "code",
      "source": [
        " #  Plot the training loss\n",
        "plt.plot(results.history['loss'],label='loss')\n",
        " # Plot the validation loss\n",
        "plt.plot(results.history['val_loss'],label='validation loss')\n",
        "\n",
        "# Name the x and y axises\n",
        "plt.xlabel('Epochs')\n",
        "plt.ylabel('Loss')\n",
        "# Put legend table\n",
        "plt.legend()\n",
        "# Show the plot\n",
        "plt.show()"
      ],
      "metadata": {
        "colab": {
          "base_uri": "https://localhost:8080/",
          "height": 449
        },
        "id": "rf-363FseXLo",
        "outputId": "322afcc2-29af-45f1-94b6-b4e741b5476f"
      },
      "execution_count": null,
      "outputs": [
        {
          "output_type": "display_data",
          "data": {
            "text/plain": [
              "<Figure size 640x480 with 1 Axes>"
            ],
            "image/png": "[encoded data removed]"
          },
          "metadata": {}
        }
      ]
    },
    {
      "cell_type": "markdown",
      "source": [
        "Now do the same thing for accuracy\n",
        "\n",
        "Accuracy scores can be found in:\n",
        "\n",
        "results.history['accuracy']\n",
        "\n",
        "results.history['val_accuracy']"
      ],
      "metadata": {
        "id": "IjfVntGmfWkh"
      }
    },
    {
      "cell_type": "code",
      "source": [
        "# Plot the training accuracy\n",
        "plt.plot(results.history['accuracy'],label='accuracy')\n",
        "# plot the validation accuracy\n",
        "plt.plot(results.history['val_accuracy'],label='val accuracy')\n",
        "# name the x and y axises\n",
        "plt.xlabel('Epochs')\n",
        "plt.ylabel('Accuracy')\n",
        "\n",
        "# Put legend table\n",
        "plt.legend()\n",
        "\n",
        "# show the plot\n",
        "plt.show()"
      ],
      "metadata": {
        "colab": {
          "base_uri": "https://localhost:8080/",
          "height": 449
        },
        "id": "qFgpQ6dZe8uI",
        "outputId": "61b12963-c555-4c57-8f1e-c16c090035b0"
      },
      "execution_count": null,
      "outputs": [
        {
          "output_type": "display_data",
          "data": {
            "text/plain": [
              "<Figure size 640x480 with 1 Axes>"
            ],
            "image/png": "[encoded data removed]"
          },
          "metadata": {}
        }
      ]
    },
    {
      "cell_type": "markdown",
      "source": [
        "# Performance evalutaion\n",
        "Let's use the test dataset we created to evaluate the performance of the model\n",
        "\n",
        "Use test_ont_batch method with test dataset as parameter"
      ],
      "metadata": {
        "id": "rK2dh8SjgCMw"
      }
    },
    {
      "cell_type": "code",
      "source": [
        "#Evaluate the performance\n",
        "model.evaluate(X_test,y_test)"
      ],
      "metadata": {
        "colab": {
          "base_uri": "https://localhost:8080/"
        },
        "id": "6f2lDvmtgOoA",
        "outputId": "67505899-abd0-4d33-e63f-b16ed3dde661"
      },
      "execution_count": null,
      "outputs": [
        {
          "output_type": "stream",
          "name": "stdout",
          "text": [
            "\u001b[1m313/313\u001b[0m \u001b[32m━━━━━━━━━━━━━━━━━━━━\u001b[0m\u001b[37m\u001b[0m \u001b[1m1s\u001b[0m 3ms/step - accuracy: 0.7071 - loss: 0.8778\n"
          ]
        },
        {
          "output_type": "execute_result",
          "data": {
            "text/plain": [
              "[0.8745245337486267, 0.7080000042915344]"
            ]
          },
          "metadata": {},
          "execution_count": 116
        }
      ]
    },
    {
      "cell_type": "markdown",
      "source": [
        "## Try a prediction\n",
        "Next, we take the sample we selected at the begining and make a prediction on it.\n",
        "\n",
        "Reshape the image to (1,32,32,3)\n",
        "\n",
        "Use the .prediction() method of the model object"
      ],
      "metadata": {
        "id": "cS9h7vsGgmJf"
      }
    },
    {
      "cell_type": "code",
      "source": [
        "# Make prediction on the reshaped sample\n",
        "prediction_result = model.predict(X_test[789].reshape(1,32,32,3))\n",
        "# Print the prediction result\n",
        "prediction_result"
      ],
      "metadata": {
        "colab": {
          "base_uri": "https://localhost:8080/"
        },
        "id": "ddtSu7aRgfTJ",
        "outputId": "1ce70331-d285-45fa-de15-5848a9cf9485"
      },
      "execution_count": null,
      "outputs": [
        {
          "output_type": "stream",
          "name": "stderr",
          "text": [
            "WARNING:tensorflow:5 out of the last 5 calls to <function TensorFlowTrainer.make_predict_function.<locals>.one_step_on_data_distributed at 0x7eba80b3d240> triggered tf.function retracing. Tracing is expensive and the excessive number of tracings could be due to (1) creating @tf.function repeatedly in a loop, (2) passing tensors with different shapes, (3) passing Python objects instead of tensors. For (1), please define your @tf.function outside of the loop. For (2), @tf.function has reduce_retracing=True option that can avoid unnecessary retracing. For (3), please refer to https://www.tensorflow.org/guide/function#controlling_retracing and https://www.tensorflow.org/api_docs/python/tf/function for  more details.\n"
          ]
        },
        {
          "output_type": "stream",
          "name": "stdout",
          "text": [
            "\u001b[1m1/1\u001b[0m \u001b[32m━━━━━━━━━━━━━━━━━━━━\u001b[0m\u001b[37m\u001b[0m \u001b[1m0s\u001b[0m 172ms/step\n"
          ]
        },
        {
          "output_type": "execute_result",
          "data": {
            "text/plain": [
              "array([[1.0548650e-02, 8.9682420e-05, 9.3974495e-06, 1.7740690e-07,\n",
              "        2.0325269e-06, 2.9232081e-09, 2.3937901e-08, 1.4604915e-09,\n",
              "        9.8934269e-01, 7.3448355e-06]], dtype=float32)"
            ]
          },
          "metadata": {},
          "execution_count": 117
        }
      ]
    },
    {
      "cell_type": "markdown",
      "source": [
        "Finally we find the predicted class and prediction probability and print the results.\n",
        "\n",
        "Use .argmax() to find the class\n",
        "\n",
        "Use .max() to find the probability"
      ],
      "metadata": {
        "id": "e5pIZMpthHhZ"
      }
    },
    {
      "cell_type": "code",
      "source": [
        "# Find the predicted class\n",
        "predicted_class = prediction_result.argmax()\n",
        "# Find the predicted probability\n",
        "predicted_probability = prediction_result.max()\n",
        "# print the results\n",
        "print(f\"Predicted class:{predicted_class}, Prediction Probability: %{predicted_probability}\")"
      ],
      "metadata": {
        "colab": {
          "base_uri": "https://localhost:8080/"
        },
        "id": "iDItoS0bhRGW",
        "outputId": "9ca99c5a-ce87-4924-f392-c5067e3c137d"
      },
      "execution_count": null,
      "outputs": [
        {
          "output_type": "stream",
          "name": "stdout",
          "text": [
            "Predicted class:8, Prediction Probability: %0.9893426895141602\n"
          ]
        }
      ]
    },
    {
      "cell_type": "code",
      "source": [],
      "metadata": {
        "id": "qznhxAc5h07F"
      },
      "execution_count": null,
      "outputs": []
    }
  ]
}